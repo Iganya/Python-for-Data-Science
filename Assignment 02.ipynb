{
 "cells": [
  {
   "cell_type": "markdown",
   "metadata": {},
   "source": [
    "<img src=\"http://cfs22.simplicdn.net/ice9/new_logo.svgz \"/>\n",
    "\n",
    "# Assignment 02: Evaluate the Summer Olympics, London 2012 dataset\n",
    "\n",
    "*The comments/sections provided are your cues to perform the assignment. You don't need to limit yourself to the number of rows/cells provided. You can add additional rows in each section to add more lines of code.*\n",
    "\n",
    "*If at any point in time you need help on solving this assignment, view our demo video to understand the different steps of the code.*\n",
    "\n",
    "**Happy coding!**\n",
    "\n",
    "* * *"
   ]
  },
  {
   "cell_type": "markdown",
   "metadata": {},
   "source": [
    "#### 1: View and add the dataset"
   ]
  },
  {
   "cell_type": "code",
   "execution_count": 2,
   "metadata": {},
   "outputs": [],
   "source": [
    "#Import the necessary library\n",
    "import numpy as np"
   ]
  },
  {
   "cell_type": "code",
   "execution_count": 3,
   "metadata": {},
   "outputs": [],
   "source": [
    "#Manually add the Summer Olympics, London 2012 dataset as arrays\n",
    "country = np.array([\"Great_Britain\", \"China\", \"Russia\", \"United States\", \"Korea\", \"Japan\", \"Germany\"])\n",
    "country_code = np.array([\"GBR\", \"CHN\", \"RUS\", \"US\", \"KOR\", \"JPN\", \"GER\"])\n",
    "year = np.array([2012,2012,2012,2012,2012,2012,2012])\n",
    "gold = np.array([29, 38, 24, 46, 13, 7, 11])\n",
    "silver = np.array([17, 28, 25, 28, 8, 14, 11])\n",
    "bronze = np.array([19, 22, 32, 29, 7, 17, 14])\n"
   ]
  },
  {
   "cell_type": "markdown",
   "metadata": {},
   "source": [
    "#### Find the country with maximum gold medals"
   ]
  },
  {
   "cell_type": "code",
   "execution_count": 12,
   "metadata": {},
   "outputs": [
    {
     "data": {
      "text/plain": [
       "46"
      ]
     },
     "execution_count": 12,
     "metadata": {},
     "output_type": "execute_result"
    }
   ],
   "source": [
    "#Use the argmax() method to find the highest number of gold medals\n",
    "max_gold = gold[gold.argmax()]\n",
    "max_gold"
   ]
  },
  {
   "cell_type": "code",
   "execution_count": 14,
   "metadata": {},
   "outputs": [
    {
     "data": {
      "text/plain": [
       "'United States'"
      ]
     },
     "execution_count": 14,
     "metadata": {},
     "output_type": "execute_result"
    }
   ],
   "source": [
    "#Print the name of the country\n",
    "country_with_max_Gold = country[gold.argmax()]\n",
    "country_with_max_Gold"
   ]
  },
  {
   "cell_type": "markdown",
   "metadata": {},
   "source": [
    "#### Find the countries with more than 20 gold medals"
   ]
  },
  {
   "cell_type": "code",
   "execution_count": 30,
   "metadata": {},
   "outputs": [
    {
     "name": "stdout",
     "output_type": "stream",
     "text": [
      "['Great_Britain' 'China' 'Russia' 'United States']\n"
     ]
    }
   ],
   "source": [
    "#Use Boolean indexing technique to find the required output\n",
    "print(country[gold > 20])"
   ]
  },
  {
   "cell_type": "markdown",
   "metadata": {},
   "source": [
    "#### Evaluate the dataset and print the name of each country with its gold medals and total number of medals"
   ]
  },
  {
   "cell_type": "code",
   "execution_count": 26,
   "metadata": {},
   "outputs": [
    {
     "name": "stdout",
     "output_type": "stream",
     "text": [
      "Great_Britain has 29 gold medals and 65 total medals\n",
      "China has 38 gold medals and 88 total medals\n",
      "Russia has 24 gold medals and 81 total medals\n",
      "United States has 46 gold medals and 103 total medals\n",
      "Korea has 13 gold medals and 28 total medals\n",
      "Japan has 7 gold medals and 38 total medals\n",
      "Germany has 11 gold medals and 36 total medals\n"
     ]
    }
   ],
   "source": [
    "#Use a for loop to create the required output\n",
    "total_medal = gold + silver + bronze\n",
    "for n in range(len(gold)):\n",
    "    countries = country[n]\n",
    "    golds = gold[n]\n",
    "    total_medals = total_medal[n]\n",
    "    print(f\"{countries} has {golds} gold medals and {total_medals} total medals\")"
   ]
  },
  {
   "cell_type": "code",
   "execution_count": 23,
   "metadata": {},
   "outputs": [
    {
     "data": {
      "text/plain": [
       "array([ 65,  88,  81, 103,  28,  38,  36])"
      ]
     },
     "execution_count": 23,
     "metadata": {},
     "output_type": "execute_result"
    }
   ],
   "source": [
    "total_medal = gold + silver + bronze\n",
    "total_medal"
   ]
  },
  {
   "cell_type": "code",
   "execution_count": null,
   "metadata": {},
   "outputs": [],
   "source": []
  }
 ],
 "metadata": {
  "kernelspec": {
   "display_name": "Python 3",
   "language": "python",
   "name": "python3"
  },
  "language_info": {
   "codemirror_mode": {
    "name": "ipython",
    "version": 3
   },
   "file_extension": ".py",
   "mimetype": "text/x-python",
   "name": "python",
   "nbconvert_exporter": "python",
   "pygments_lexer": "ipython3",
   "version": "3.8.5"
  }
 },
 "nbformat": 4,
 "nbformat_minor": 1
}
