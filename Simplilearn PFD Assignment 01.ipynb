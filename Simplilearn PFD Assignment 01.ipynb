{
 "cells": [
  {
   "cell_type": "markdown",
   "metadata": {},
   "source": [
    "\n",
    "\n",
    "# Assignment 01: Evaluate the GDP Dataset\n",
    "\n",
    "Description\n",
    "Evaluate the dataset containing GDPs of different countries to:\n",
    "\n",
    "* Find and print the name of the country with the highest GDP\n",
    "* Find and print the name of the country with the lowest GDP\n",
    "* Print out text and input values iteratively\n",
    "* Print out the entire list of countries with their GDPs\n",
    "* Print the highest GDP value, lowest GDP value, mean GDP value, standardize GDP value and sum of all GDP value.\n",
    "\n"
   ]
  },
  {
   "cell_type": "markdown",
   "metadata": {},
   "source": [
    "#### 1: View and add the dataset"
   ]
  },
  {
   "cell_type": "code",
   "execution_count": 28,
   "metadata": {},
   "outputs": [],
   "source": [
    "#Import required library\n",
    "import numpy as py"
   ]
  },
  {
   "cell_type": "code",
   "execution_count": 29,
   "metadata": {},
   "outputs": [],
   "source": [
    "#Manually add the dataset\n",
    "import numpy as np\n",
    "\n",
    "countries = np.array(['Algeria','Angola','Argentina','Australia','Austria','Bahamas','Bangladesh','Belarus','Belgium','Bhutan',\n",
    "                      'Brazil','Bulgaria','Cambodia','Cameroon','Chile','China','Colombia','Cyprus','Denmark','El Salvador',\n",
    "                      'Estonia','Ethiopia','Fiji','Finland','France','Georgia','Ghana','Grenada','Guinea','Haiti','Honduras',\n",
    "                      'Hungary','India','Indonesia','Ireland','Italy','Japan','Kenya','South Korea','Liberia','Malaysia',\n",
    "                      'Mexico', 'Morocco','Nepal','New Zealand','Norway','Pakistan','Peru','Qatar','Russia','Singapore',\n",
    "                      'South Africa','Spain','Sweden', 'Switzerland', 'Thailand','United Arab Emirates','United Kingdom',\n",
    "                      'United States','Uruguay', 'Venezuela','Vietnam','Zimbabwe'])\n",
    "\n",
    "countries_GDPs = np.array([2255.225482,629.9553062,11601.63022,25306.82494,27266.40335,19466.99052,588.3691778,2890.345675,\n",
    "                         24733.62696,1445.760002,4803.398244,2618.876037,590.4521124,665.7982328,7122.938458,2639.54156,\n",
    "                         3362.4656,15378.16704,30860.12808,2579.115607,6525.541272,229.6769525,2242.689259,27570.4852,\n",
    "                         23016.84778,1334.646773,402.6953275,6047.200797,394.1156638,385.5793827,1414.072488,5745.981529,\n",
    "                         837.7464011,1206.991065,27715.52837,18937.24998,39578.07441,478.2194906,16684.21278,279.2204061,\n",
    "                         5345.213415,6288.25324,1908.304416,274.8728621,14646.42094,40034.85063,672.1547506,3359.517402,\n",
    "                         36152.66676,3054.727742,33529.83052,3825.093781,15428.32098,33630.24604,39170.41371,2699.123242,\n",
    "                         21058.43643,28272.40661,37691.02733,9581.05659,5671.912202,757.4009286,347.7456605])"
   ]
  },
  {
   "cell_type": "markdown",
   "metadata": {
    "collapsed": true
   },
   "source": [
    "#### 2: Find and print the name of the country with the highest GDP"
   ]
  },
  {
   "cell_type": "code",
   "execution_count": 30,
   "metadata": {},
   "outputs": [],
   "source": [
    "#Use the argmax() method to find the highest GDP\n",
    "highest_GDP = countries_GDPs.argmax()\n"
   ]
  },
  {
   "cell_type": "code",
   "execution_count": 31,
   "metadata": {},
   "outputs": [
    {
     "name": "stdout",
     "output_type": "stream",
     "text": [
      "The country with the highest GDP is Norway\n"
     ]
    }
   ],
   "source": [
    "#Print the name of the country\n",
    "country_with_highest_GDP = countries[highest_GDP]\n",
    "print(f\"The country with the highest GDP is {country_with_highest_GDP}\")"
   ]
  },
  {
   "cell_type": "markdown",
   "metadata": {},
   "source": [
    "#### 3: Find and print the name of the country with the lowest GDP"
   ]
  },
  {
   "cell_type": "code",
   "execution_count": 32,
   "metadata": {},
   "outputs": [],
   "source": [
    "#Use the argmin() method to find the lowest GDP\n",
    "lowest_GDP = countries_GDPs.argmin()"
   ]
  },
  {
   "cell_type": "code",
   "execution_count": 33,
   "metadata": {},
   "outputs": [
    {
     "name": "stdout",
     "output_type": "stream",
     "text": [
      "The country with the lowest GDP is Ethiopia\n"
     ]
    }
   ],
   "source": [
    "#Print the name of the country\n",
    "country_with_lowest_GDP = countries[lowest_GDP]\n",
    "print(f\"The country with the lowest GDP is {country_with_lowest_GDP}\")"
   ]
  },
  {
   "cell_type": "markdown",
   "metadata": {},
   "source": [
    "#### 4: Print out text ('evaluating country') and input value ('country name') iteratively"
   ]
  },
  {
   "cell_type": "code",
   "execution_count": 34,
   "metadata": {},
   "outputs": [
    {
     "name": "stdout",
     "output_type": "stream",
     "text": [
      "Country Algeria\n",
      "Country Angola\n",
      "Country Argentina\n",
      "Country Australia\n",
      "Country Austria\n",
      "Country Bahamas\n",
      "Country Bangladesh\n",
      "Country Belarus\n",
      "Country Belgium\n",
      "Country Bhutan\n",
      "Country Brazil\n",
      "Country Bulgaria\n",
      "Country Cambodia\n",
      "Country Cameroon\n",
      "Country Chile\n",
      "Country China\n",
      "Country Colombia\n",
      "Country Cyprus\n",
      "Country Denmark\n",
      "Country El Salvador\n",
      "Country Estonia\n",
      "Country Ethiopia\n",
      "Country Fiji\n",
      "Country Finland\n",
      "Country France\n",
      "Country Georgia\n",
      "Country Ghana\n",
      "Country Grenada\n",
      "Country Guinea\n",
      "Country Haiti\n",
      "Country Honduras\n",
      "Country Hungary\n",
      "Country India\n",
      "Country Indonesia\n",
      "Country Ireland\n",
      "Country Italy\n",
      "Country Japan\n",
      "Country Kenya\n",
      "Country South Korea\n",
      "Country Liberia\n",
      "Country Malaysia\n",
      "Country Mexico\n",
      "Country Morocco\n",
      "Country Nepal\n",
      "Country New Zealand\n",
      "Country Norway\n",
      "Country Pakistan\n",
      "Country Peru\n",
      "Country Qatar\n",
      "Country Russia\n",
      "Country Singapore\n",
      "Country South Africa\n",
      "Country Spain\n",
      "Country Sweden\n",
      "Country Switzerland\n",
      "Country Thailand\n",
      "Country United Arab Emirates\n",
      "Country United Kingdom\n",
      "Country United States\n",
      "Country Uruguay\n",
      "Country Venezuela\n",
      "Country Vietnam\n",
      "Country Zimbabwe\n"
     ]
    }
   ],
   "source": [
    "#Use a for loop to print the required output\n",
    "for country in countries:\n",
    "    print(\"Country\", country)"
   ]
  },
  {
   "cell_type": "markdown",
   "metadata": {},
   "source": [
    "#### 5: Print out the entire list of the countries with their GDPs"
   ]
  },
  {
   "cell_type": "code",
   "execution_count": 35,
   "metadata": {},
   "outputs": [
    {
     "name": "stdout",
     "output_type": "stream",
     "text": [
      " Algeria GDP per Capital is 2255.225482 \n",
      " Angola GDP per Capital is 629.9553062 \n",
      " Argentina GDP per Capital is 11601.63022 \n",
      " Australia GDP per Capital is 25306.82494 \n",
      " Austria GDP per Capital is 27266.40335 \n",
      " Bahamas GDP per Capital is 19466.99052 \n",
      " Bangladesh GDP per Capital is 588.3691778 \n",
      " Belarus GDP per Capital is 2890.345675 \n",
      " Belgium GDP per Capital is 24733.62696 \n",
      " Bhutan GDP per Capital is 1445.760002 \n",
      " Brazil GDP per Capital is 4803.398244 \n",
      " Bulgaria GDP per Capital is 2618.876037 \n",
      " Cambodia GDP per Capital is 590.4521124 \n",
      " Cameroon GDP per Capital is 665.7982328 \n",
      " Chile GDP per Capital is 7122.938458 \n",
      " China GDP per Capital is 2639.54156 \n",
      " Colombia GDP per Capital is 3362.4656 \n",
      " Cyprus GDP per Capital is 15378.16704 \n",
      " Denmark GDP per Capital is 30860.12808 \n",
      " El Salvador GDP per Capital is 2579.115607 \n",
      " Estonia GDP per Capital is 6525.541272 \n",
      " Ethiopia GDP per Capital is 229.6769525 \n",
      " Fiji GDP per Capital is 2242.689259 \n",
      " Finland GDP per Capital is 27570.4852 \n",
      " France GDP per Capital is 23016.84778 \n",
      " Georgia GDP per Capital is 1334.646773 \n",
      " Ghana GDP per Capital is 402.6953275 \n",
      " Grenada GDP per Capital is 6047.200797 \n",
      " Guinea GDP per Capital is 394.1156638 \n",
      " Haiti GDP per Capital is 385.5793827 \n",
      " Honduras GDP per Capital is 1414.072488 \n",
      " Hungary GDP per Capital is 5745.981529 \n",
      " India GDP per Capital is 837.7464011 \n",
      " Indonesia GDP per Capital is 1206.991065 \n",
      " Ireland GDP per Capital is 27715.52837 \n",
      " Italy GDP per Capital is 18937.24998 \n",
      " Japan GDP per Capital is 39578.07441 \n",
      " Kenya GDP per Capital is 478.2194906 \n",
      " South Korea GDP per Capital is 16684.21278 \n",
      " Liberia GDP per Capital is 279.2204061 \n",
      " Malaysia GDP per Capital is 5345.213415 \n",
      " Mexico GDP per Capital is 6288.25324 \n",
      " Morocco GDP per Capital is 1908.304416 \n",
      " Nepal GDP per Capital is 274.8728621 \n",
      " New Zealand GDP per Capital is 14646.42094 \n",
      " Norway GDP per Capital is 40034.85063 \n",
      " Pakistan GDP per Capital is 672.1547506 \n",
      " Peru GDP per Capital is 3359.517402 \n",
      " Qatar GDP per Capital is 36152.66676 \n",
      " Russia GDP per Capital is 3054.727742 \n",
      " Singapore GDP per Capital is 33529.83052 \n",
      " South Africa GDP per Capital is 3825.093781 \n",
      " Spain GDP per Capital is 15428.32098 \n",
      " Sweden GDP per Capital is 33630.24604 \n",
      " Switzerland GDP per Capital is 39170.41371 \n",
      " Thailand GDP per Capital is 2699.123242 \n",
      " United Arab Emirates GDP per Capital is 21058.43643 \n",
      " United Kingdom GDP per Capital is 28272.40661 \n",
      " United States GDP per Capital is 37691.02733 \n",
      " Uruguay GDP per Capital is 9581.05659 \n",
      " Venezuela GDP per Capital is 5671.912202 \n",
      " Vietnam GDP per Capital is 757.4009286 \n",
      " Zimbabwe GDP per Capital is 347.7456605 \n"
     ]
    }
   ],
   "source": [
    "#Use a for loop to print the required list\n",
    "for i in range(len(countries)):\n",
    "    Country = countries[i]\n",
    "    GDP = countries_GDPs[i]\n",
    "    print(\" {} GDP per Capital is {} \".format(Country,GDP))"
   ]
  },
  {
   "cell_type": "markdown",
   "metadata": {},
   "source": [
    "#### 6: Print the following:\n",
    "1. Highest GPD value\n",
    "2. Lowest GDP value\n",
    "3. Mean GDP value\n",
    "4. Standardized GDP value\n",
    "5. Sum of all the GDPs"
   ]
  },
  {
   "cell_type": "code",
   "execution_count": 36,
   "metadata": {},
   "outputs": [
    {
     "name": "stdout",
     "output_type": "stream",
     "text": [
      "The highest GDP is 40034.85063\n",
      "The lowest GDP is 229.6769525\n",
      "The standarized GDP is 12743.828910617945\n",
      "The mean of the GDP is 11289.409272 \n",
      "The total sum of all the GDP of the countries are 711232.784113 \n"
     ]
    }
   ],
   "source": [
    "print(\"The highest GDP is {}\".format(countries_GDPs.max()))\n",
    "print(\"The lowest GDP is {}\".format(countries_GDPs.min()))\n",
    "print(\"The standarized GDP is {}\".format(countries_GDPs.std()))\n",
    "mean_of_GDP = np.mean(Countries_GDPs)\n",
    "print(\"The mean of the GDP is %f \" %mean_of_GDP) \n",
    "sum_of_GDP = np.sum(Countries_GDPs)\n",
    "print(\"The total sum of all the GDP of the countries are %f \" %sum_of_GDP)"
   ]
  },
  {
   "cell_type": "code",
   "execution_count": null,
   "metadata": {},
   "outputs": [],
   "source": []
  }
 ],
 "metadata": {
  "kernelspec": {
   "display_name": "Python 3",
   "language": "python",
   "name": "python3"
  },
  "language_info": {
   "codemirror_mode": {
    "name": "ipython",
    "version": 3
   },
   "file_extension": ".py",
   "mimetype": "text/x-python",
   "name": "python",
   "nbconvert_exporter": "python",
   "pygments_lexer": "ipython3",
   "version": "3.8.5"
  }
 },
 "nbformat": 4,
 "nbformat_minor": 1
}
